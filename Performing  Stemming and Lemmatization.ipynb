{
 "cells": [
  {
   "cell_type": "code",
   "execution_count": 20,
   "metadata": {
    "scrolled": true
   },
   "outputs": [],
   "source": [
    "# for Importing the Dataset\n",
    "import pandas as pd\n",
    "\n",
    "# for stemming \n",
    "import nltk\n",
    "\n",
    "\n",
    "\n",
    "\n",
    "# for lemmatization\n",
    "import spacy\n",
    "nlp = spacy.load('en_core_web_sm',parse=True,tag=True, entity=True)"
   ]
  },
  {
   "cell_type": "code",
   "execution_count": 19,
   "metadata": {},
   "outputs": [],
   "source": [
    "import en_core_web_sm\n",
    "\n",
    "nlp = en_core_web_sm.load()"
   ]
  },
  {
   "cell_type": "markdown",
   "metadata": {},
   "source": [
    "### Stemming\n",
    "\n",
    "Stemming is the process of reducing inflected/derived words to their word stem, base or root form. The stem need not be identical to original word. There are many ways to perform stemming such as lookup table, suffix-stripping algorithms etc. These mainly rely on chopping-off ‘s’, ‘es’, ‘ed’, ‘ing’, ‘ly’ etc from the end of the words and sometimes the conversion is not desirable. But nonetheless, stemming helps us in standardizing tex"
   ]
  },
  {
   "cell_type": "code",
   "execution_count": 21,
   "metadata": {},
   "outputs": [
    {
     "data": {
      "text/plain": [
       "'we are eat and swim ; we have been eat and swim ; he eat and swim ; he ate and swam'"
      ]
     },
     "execution_count": 21,
     "metadata": {},
     "output_type": "execute_result"
    }
   ],
   "source": [
    "# function for stemming\n",
    "def get_stem(text):\n",
    "    stemmer = nltk.porter.PorterStemmer()\n",
    "    text = ' '.join([stemmer.stem(word) for word in text.split()])\n",
    "    return text\n",
    "\n",
    "# call function\n",
    "get_stem(\"we are eating and swimming ; we have been eating and swimming ; he eats and swims ; he ate and swam \")"
   ]
  },
  {
   "cell_type": "markdown",
   "metadata": {},
   "source": [
    "### Lemmatization\n",
    "\n",
    "Though stemming and lemmatization both generate the root form of inflected/desired words, but lemmatization is an advanced form of stemming. Stemming might not result in actual word, whereas lemmatization does conversion properly with the use of vocabulary, normally aiming to remove inflectional endings only and to return the base or dictionary form of a word, which is known as the lemma.\n",
    "Before using lemmatization, we should be aware that it is considerably slower than stemming, so performance should be kept in mind before choosing stemming or lemmatization."
   ]
  },
  {
   "cell_type": "code",
   "execution_count": 23,
   "metadata": {},
   "outputs": [
    {
     "data": {
      "text/plain": [
       "'we be eat and swim ; we have be eat and swim ; he eat and swim ; he eat and swam'"
      ]
     },
     "execution_count": 23,
     "metadata": {},
     "output_type": "execute_result"
    }
   ],
   "source": [
    "# function to remove special characters\n",
    "def get_lem(text):\n",
    "    text = nlp(text)\n",
    "    text = ' '.join([word.lemma_ if word.lemma_ != '-PRON-' else word.text for word in text])\n",
    "    return text\n",
    "\n",
    "# call function\n",
    "get_lem(\"we are eating and swimming ; we have been eating and swimming ; he eats and swims ; he ate and swam \")"
   ]
  },
  {
   "cell_type": "code",
   "execution_count": 24,
   "metadata": {},
   "outputs": [
    {
     "name": "stdout",
     "output_type": "stream",
     "text": [
      "[!] As of spaCy v3.0, shortcuts like 'en' are deprecated. Please use the full\n",
      "pipeline package name 'en_core_web_sm' instead.\n"
     ]
    },
    {
     "name": "stderr",
     "output_type": "stream",
     "text": [
      "2022-05-25 14:40:01.913591: W tensorflow/stream_executor/platform/default/dso_loader.cc:64] Could not load dynamic library 'cudart64_110.dll'; dlerror: cudart64_110.dll not found\n",
      "2022-05-25 14:40:01.913612: I tensorflow/stream_executor/cuda/cudart_stub.cc:29] Ignore above cudart dlerror if you do not have a GPU set up on your machine.\n",
      "Traceback (most recent call last):\n",
      "  File \"C:\\Users\\Abdelrahman Ragab\\anaconda3\\envs\\DL\\lib\\site-packages\\urllib3\\connectionpool.py\", line 710, in urlopen\n",
      "    chunked=chunked,\n",
      "  File \"C:\\Users\\Abdelrahman Ragab\\anaconda3\\envs\\DL\\lib\\site-packages\\urllib3\\connectionpool.py\", line 386, in _make_request\n",
      "    self._validate_conn(conn)\n",
      "  File \"C:\\Users\\Abdelrahman Ragab\\anaconda3\\envs\\DL\\lib\\site-packages\\urllib3\\connectionpool.py\", line 1040, in _validate_conn\n",
      "    conn.connect()\n",
      "  File \"C:\\Users\\Abdelrahman Ragab\\anaconda3\\envs\\DL\\lib\\site-packages\\urllib3\\connection.py\", line 424, in connect\n",
      "    tls_in_tls=tls_in_tls,\n",
      "  File \"C:\\Users\\Abdelrahman Ragab\\anaconda3\\envs\\DL\\lib\\site-packages\\urllib3\\util\\ssl_.py\", line 450, in ssl_wrap_socket\n",
      "    sock, context, tls_in_tls, server_hostname=server_hostname\n",
      "  File \"C:\\Users\\Abdelrahman Ragab\\anaconda3\\envs\\DL\\lib\\site-packages\\urllib3\\util\\ssl_.py\", line 493, in _ssl_wrap_socket_impl\n",
      "    return ssl_context.wrap_socket(sock, server_hostname=server_hostname)\n",
      "  File \"C:\\Users\\Abdelrahman Ragab\\anaconda3\\envs\\DL\\lib\\ssl.py\", line 423, in wrap_socket\n",
      "    session=session\n",
      "  File \"C:\\Users\\Abdelrahman Ragab\\anaconda3\\envs\\DL\\lib\\ssl.py\", line 870, in _create\n",
      "    self.do_handshake()\n",
      "  File \"C:\\Users\\Abdelrahman Ragab\\anaconda3\\envs\\DL\\lib\\ssl.py\", line 1139, in do_handshake\n",
      "    self._sslobj.do_handshake()\n",
      "ssl.SSLCertVerificationError: [SSL: CERTIFICATE_VERIFY_FAILED] certificate verify failed: unable to get local issuer certificate (_ssl.c:1091)\n",
      "\n",
      "During handling of the above exception, another exception occurred:\n",
      "\n",
      "Traceback (most recent call last):\n",
      "  File \"C:\\Users\\Abdelrahman Ragab\\anaconda3\\envs\\DL\\lib\\site-packages\\requests\\adapters.py\", line 450, in send\n",
      "    timeout=timeout\n",
      "  File \"C:\\Users\\Abdelrahman Ragab\\anaconda3\\envs\\DL\\lib\\site-packages\\urllib3\\connectionpool.py\", line 786, in urlopen\n",
      "    method, url, error=e, _pool=self, _stacktrace=sys.exc_info()[2]\n",
      "  File \"C:\\Users\\Abdelrahman Ragab\\anaconda3\\envs\\DL\\lib\\site-packages\\urllib3\\util\\retry.py\", line 592, in increment\n",
      "    raise MaxRetryError(_pool, url, error or ResponseError(cause))\n",
      "urllib3.exceptions.MaxRetryError: HTTPSConnectionPool(host='raw.githubusercontent.com', port=443): Max retries exceeded with url: /explosion/spacy-models/master/compatibility.json (Caused by SSLError(SSLCertVerificationError(1, '[SSL: CERTIFICATE_VERIFY_FAILED] certificate verify failed: unable to get local issuer certificate (_ssl.c:1091)')))\n",
      "\n",
      "During handling of the above exception, another exception occurred:\n",
      "\n",
      "Traceback (most recent call last):\n",
      "  File \"C:\\Users\\Abdelrahman Ragab\\anaconda3\\envs\\DL\\lib\\runpy.py\", line 193, in _run_module_as_main\n",
      "    \"__main__\", mod_spec)\n",
      "  File \"C:\\Users\\Abdelrahman Ragab\\anaconda3\\envs\\DL\\lib\\runpy.py\", line 85, in _run_code\n",
      "    exec(code, run_globals)\n",
      "  File \"C:\\Users\\Abdelrahman Ragab\\anaconda3\\envs\\DL\\lib\\site-packages\\spacy\\__main__.py\", line 4, in <module>\n",
      "    setup_cli()\n",
      "  File \"C:\\Users\\Abdelrahman Ragab\\anaconda3\\envs\\DL\\lib\\site-packages\\spacy\\cli\\_util.py\", line 71, in setup_cli\n",
      "    command(prog_name=COMMAND)\n",
      "  File \"C:\\Users\\Abdelrahman Ragab\\anaconda3\\envs\\DL\\lib\\site-packages\\click\\core.py\", line 1128, in __call__\n",
      "    return self.main(*args, **kwargs)\n",
      "  File \"C:\\Users\\Abdelrahman Ragab\\anaconda3\\envs\\DL\\lib\\site-packages\\click\\core.py\", line 1053, in main\n",
      "    rv = self.invoke(ctx)\n",
      "  File \"C:\\Users\\Abdelrahman Ragab\\anaconda3\\envs\\DL\\lib\\site-packages\\click\\core.py\", line 1659, in invoke\n",
      "    return _process_result(sub_ctx.command.invoke(sub_ctx))\n",
      "  File \"C:\\Users\\Abdelrahman Ragab\\anaconda3\\envs\\DL\\lib\\site-packages\\click\\core.py\", line 1395, in invoke\n",
      "    return ctx.invoke(self.callback, **ctx.params)\n",
      "  File \"C:\\Users\\Abdelrahman Ragab\\anaconda3\\envs\\DL\\lib\\site-packages\\click\\core.py\", line 754, in invoke\n",
      "    return __callback(*args, **kwargs)\n",
      "  File \"C:\\Users\\Abdelrahman Ragab\\anaconda3\\envs\\DL\\lib\\site-packages\\typer\\main.py\", line 500, in wrapper\n",
      "    return callback(**use_params)  # type: ignore\n",
      "  File \"C:\\Users\\Abdelrahman Ragab\\anaconda3\\envs\\DL\\lib\\site-packages\\spacy\\cli\\download.py\", line 35, in download_cli\n",
      "    download(model, direct, sdist, *ctx.args)\n",
      "  File \"C:\\Users\\Abdelrahman Ragab\\anaconda3\\envs\\DL\\lib\\site-packages\\spacy\\cli\\download.py\", line 67, in download\n",
      "    compatibility = get_compatibility()\n",
      "  File \"C:\\Users\\Abdelrahman Ragab\\anaconda3\\envs\\DL\\lib\\site-packages\\spacy\\cli\\download.py\", line 78, in get_compatibility\n",
      "    r = requests.get(about.__compatibility__)\n",
      "  File \"C:\\Users\\Abdelrahman Ragab\\anaconda3\\envs\\DL\\lib\\site-packages\\requests\\api.py\", line 75, in get\n",
      "    return request('get', url, params=params, **kwargs)\n",
      "  File \"C:\\Users\\Abdelrahman Ragab\\anaconda3\\envs\\DL\\lib\\site-packages\\requests\\api.py\", line 61, in request\n",
      "    return session.request(method=method, url=url, **kwargs)\n",
      "  File \"C:\\Users\\Abdelrahman Ragab\\anaconda3\\envs\\DL\\lib\\site-packages\\requests\\sessions.py\", line 529, in request\n",
      "    resp = self.send(prep, **send_kwargs)\n",
      "  File \"C:\\Users\\Abdelrahman Ragab\\anaconda3\\envs\\DL\\lib\\site-packages\\requests\\sessions.py\", line 645, in send\n",
      "    r = adapter.send(request, **kwargs)\n",
      "  File \"C:\\Users\\Abdelrahman Ragab\\anaconda3\\envs\\DL\\lib\\site-packages\\requests\\adapters.py\", line 517, in send\n",
      "    raise SSLError(e, request=request)\n",
      "requests.exceptions.SSLError: HTTPSConnectionPool(host='raw.githubusercontent.com', port=443): Max retries exceeded with url: /explosion/spacy-models/master/compatibility.json (Caused by SSLError(SSLCertVerificationError(1, '[SSL: CERTIFICATE_VERIFY_FAILED] certificate verify failed: unable to get local issuer certificate (_ssl.c:1091)')))\n"
     ]
    }
   ],
   "source": [
    "!python -m spacy download en"
   ]
  },
  {
   "cell_type": "code",
   "execution_count": null,
   "metadata": {},
   "outputs": [],
   "source": []
  }
 ],
 "metadata": {
  "kernelspec": {
   "display_name": "Python 3 (ipykernel)",
   "language": "python",
   "name": "python3"
  },
  "language_info": {
   "codemirror_mode": {
    "name": "ipython",
    "version": 3
   },
   "file_extension": ".py",
   "mimetype": "text/x-python",
   "name": "python",
   "nbconvert_exporter": "python",
   "pygments_lexer": "ipython3",
   "version": "3.7.11"
  }
 },
 "nbformat": 4,
 "nbformat_minor": 4
}
