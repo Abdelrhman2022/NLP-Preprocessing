{
 "cells": [
  {
   "cell_type": "code",
   "execution_count": 1,
   "id": "62e0421f",
   "metadata": {},
   "outputs": [],
   "source": [
    "# Load Dependencies\n",
    "from keras.preprocessing import sequence\n",
    "from keras.models import Sequential\n",
    "from keras.layers import Dense, Dropout, Embedding, LSTM, Bidirectional, SimpleRNN, Conv1D, GlobalMaxPooling1D\n",
    "from keras.datasets import imdb\n",
    "from keras.callbacks import TensorBoard\n",
    "import numpy as np"
   ]
  },
  {
   "cell_type": "code",
   "execution_count": 2,
   "id": "66cae3e4",
   "metadata": {},
   "outputs": [],
   "source": [
    "# Hyper-Parameters\n",
    "max_features = 5000\n",
    "no_classes = 1\n",
    "max_length = 100\n",
    "batch_size = 32\n",
    "embedding_size = 64\n",
    "dropout_rate = 0.5\n",
    "no_epochs = 10\n",
    "no_filters = 250\n",
    "kernal_size = 3\n",
    "hidden_layer_size = 250"
   ]
  },
  {
   "cell_type": "code",
   "execution_count": 3,
   "id": "ce62e629",
   "metadata": {},
   "outputs": [
    {
     "name": "stdout",
     "output_type": "stream",
     "text": [
      "Data loaded successfully.\n",
      "# Train Data =  25000\n",
      "# Test Data =  25000\n"
     ]
    }
   ],
   "source": [
    "# Load IMDB Data from Keras datasets\n",
    "(x_train, y_train), (x_test, y_test) = imdb.load_data(num_words=max_features)\n",
    "print('Data loaded successfully.')\n",
    "print('# Train Data = ', len(x_train))\n",
    "print('# Test Data = ', len(x_test))"
   ]
  },
  {
   "cell_type": "code",
   "execution_count": 4,
   "id": "191db3cc",
   "metadata": {},
   "outputs": [
    {
     "name": "stdout",
     "output_type": "stream",
     "text": [
      "Preprocessing Data..\n"
     ]
    }
   ],
   "source": [
    "# Data Preprocessing\n",
    "print('Preprocessing Data..')\n",
    "x_train = sequence.pad_sequences(x_train, maxlen=max_length)\n",
    "x_test = sequence.pad_sequences(x_test, maxlen=max_length)\n",
    "y_train = np.array(y_train)\n",
    "y_test = np.array(y_test)"
   ]
  },
  {
   "cell_type": "markdown",
   "id": "03543f8f",
   "metadata": {},
   "source": [
    "### Building LSTM Model"
   ]
  },
  {
   "cell_type": "code",
   "execution_count": 5,
   "id": "f38874a1",
   "metadata": {},
   "outputs": [
    {
     "name": "stdout",
     "output_type": "stream",
     "text": [
      "Building LSTM Model..\n"
     ]
    }
   ],
   "source": [
    "# Design Neural Network Architecture with LSTM\n",
    "print('Building LSTM Model..')\n",
    "\n",
    "LSTM_model = Sequential()\n",
    "# Add Embedding layer\n",
    "LSTM_model.add(Embedding(max_features, embedding_size, input_length=max_length))\n",
    "# Add Bidirectional LSTM Layer\n",
    "LSTM_model.add(Bidirectional(LSTM(64)))\n",
    "LSTM_model.add(Dropout(dropout_rate))\n",
    "# Output Layer \n",
    "LSTM_model.add(Dense(no_classes, activation='sigmoid'))"
   ]
  },
  {
   "cell_type": "code",
   "execution_count": 6,
   "id": "52b43e2b",
   "metadata": {},
   "outputs": [],
   "source": [
    "# Configure model\n",
    "LSTM_model.compile('adam', 'binary_crossentropy', metrics=['accuracy'])"
   ]
  },
  {
   "cell_type": "code",
   "execution_count": 7,
   "id": "81ce043b",
   "metadata": {},
   "outputs": [
    {
     "name": "stdout",
     "output_type": "stream",
     "text": [
      "Training the model..\n",
      "Epoch 1/10\n",
      "782/782 [==============================] - 29s 35ms/step - loss: 0.4289 - accuracy: 0.7970 - val_loss: 0.3518 - val_accuracy: 0.8482\n",
      "Epoch 2/10\n",
      "782/782 [==============================] - 27s 34ms/step - loss: 0.2932 - accuracy: 0.8783 - val_loss: 0.3505 - val_accuracy: 0.8437\n",
      "Epoch 3/10\n",
      "782/782 [==============================] - 26s 33ms/step - loss: 0.2419 - accuracy: 0.9025 - val_loss: 0.3455 - val_accuracy: 0.8482\n",
      "Epoch 4/10\n",
      "782/782 [==============================] - 28s 36ms/step - loss: 0.1997 - accuracy: 0.9223 - val_loss: 0.4394 - val_accuracy: 0.8471\n",
      "Epoch 5/10\n",
      "782/782 [==============================] - 24s 31ms/step - loss: 0.1576 - accuracy: 0.9415 - val_loss: 0.4465 - val_accuracy: 0.8424\n",
      "Epoch 6/10\n",
      "782/782 [==============================] - 26s 33ms/step - loss: 0.1116 - accuracy: 0.9595 - val_loss: 0.4952 - val_accuracy: 0.8317\n",
      "Epoch 7/10\n",
      "782/782 [==============================] - 23s 29ms/step - loss: 0.0855 - accuracy: 0.9695 - val_loss: 0.5713 - val_accuracy: 0.8259\n",
      "Epoch 8/10\n",
      "782/782 [==============================] - 23s 29ms/step - loss: 0.0664 - accuracy: 0.9773 - val_loss: 0.6519 - val_accuracy: 0.8366\n",
      "Epoch 9/10\n",
      "782/782 [==============================] - 23s 30ms/step - loss: 0.0578 - accuracy: 0.9810 - val_loss: 0.6506 - val_accuracy: 0.8215\n",
      "Epoch 10/10\n",
      "782/782 [==============================] - 23s 30ms/step - loss: 0.0441 - accuracy: 0.9847 - val_loss: 0.8256 - val_accuracy: 0.8354\n"
     ]
    },
    {
     "data": {
      "text/plain": [
       "<keras.callbacks.History at 0x2351194a288>"
      ]
     },
     "execution_count": 7,
     "metadata": {},
     "output_type": "execute_result"
    }
   ],
   "source": [
    "# TensorBoard\n",
    "tensorboard = TensorBoard('/LSTM')\n",
    "\n",
    "# Train!\n",
    "print('Training the model..')\n",
    "LSTM_model.fit(x_train, y_train, batch_size=batch_size, verbose=1, epochs=no_epochs, validation_data=[x_test, y_test], callbacks = [tensorboard])"
   ]
  },
  {
   "cell_type": "markdown",
   "id": "a08fc60c",
   "metadata": {},
   "source": [
    "### Building Simple RNN Model"
   ]
  },
  {
   "cell_type": "code",
   "execution_count": 8,
   "id": "886349a8",
   "metadata": {},
   "outputs": [
    {
     "name": "stdout",
     "output_type": "stream",
     "text": [
      "Building Simple RNN Model..\n"
     ]
    }
   ],
   "source": [
    "# Design Neural Network Architecture with SimpleRNN\n",
    "print('Building Simple RNN Model..')\n",
    "\n",
    "RNN_model = Sequential()\n",
    "# Add Embedding layer\n",
    "RNN_model.add(Embedding(max_features, embedding_size, input_length=max_length))\n",
    "RNN_model.add(Dropout(dropout_rate))\n",
    "# Add Simple RNN layer\n",
    "RNN_model.add(SimpleRNN(units = 40, batch_input_shape=(1, 3)))\n",
    "# Add Dense Hidden Layer\n",
    "RNN_model.add(Dense(hidden_layer_size, activation='relu'))\n",
    "RNN_model.add(Dropout(dropout_rate))\n",
    "# Output Layer \n",
    "RNN_model.add(Dense(no_classes, activation='sigmoid'))"
   ]
  },
  {
   "cell_type": "code",
   "execution_count": 9,
   "id": "5c1491a5",
   "metadata": {},
   "outputs": [
    {
     "name": "stdout",
     "output_type": "stream",
     "text": [
      "Training the model..\n",
      "Epoch 1/10\n",
      "782/782 [==============================] - 10s 12ms/step - loss: 0.5693 - accuracy: 0.6795 - val_loss: 0.4226 - val_accuracy: 0.8140\n",
      "Epoch 2/10\n",
      "782/782 [==============================] - 9s 12ms/step - loss: 0.4101 - accuracy: 0.8174 - val_loss: 0.3905 - val_accuracy: 0.8276\n",
      "Epoch 3/10\n",
      "782/782 [==============================] - 9s 12ms/step - loss: 0.3394 - accuracy: 0.8572 - val_loss: 0.4086 - val_accuracy: 0.8332\n",
      "Epoch 4/10\n",
      "782/782 [==============================] - 9s 12ms/step - loss: 0.2885 - accuracy: 0.8808 - val_loss: 0.4302 - val_accuracy: 0.8240\n",
      "Epoch 5/10\n",
      "782/782 [==============================] - 9s 12ms/step - loss: 0.2430 - accuracy: 0.9027 - val_loss: 0.4497 - val_accuracy: 0.8272\n",
      "Epoch 6/10\n",
      "782/782 [==============================] - 9s 12ms/step - loss: 0.2364 - accuracy: 0.9073 - val_loss: 0.5523 - val_accuracy: 0.8185\n",
      "Epoch 7/10\n",
      "782/782 [==============================] - 9s 12ms/step - loss: 0.1834 - accuracy: 0.9286 - val_loss: 0.5893 - val_accuracy: 0.7989\n",
      "Epoch 8/10\n",
      "782/782 [==============================] - 9s 12ms/step - loss: 0.1739 - accuracy: 0.9315 - val_loss: 0.5500 - val_accuracy: 0.8067\n",
      "Epoch 9/10\n",
      "782/782 [==============================] - 9s 12ms/step - loss: 0.1504 - accuracy: 0.9422 - val_loss: 0.5856 - val_accuracy: 0.7986\n",
      "Epoch 10/10\n",
      "782/782 [==============================] - 9s 12ms/step - loss: 0.1356 - accuracy: 0.9494 - val_loss: 0.6893 - val_accuracy: 0.8168\n"
     ]
    },
    {
     "data": {
      "text/plain": [
       "<keras.callbacks.History at 0x23501d26e88>"
      ]
     },
     "execution_count": 9,
     "metadata": {},
     "output_type": "execute_result"
    }
   ],
   "source": [
    "# Configure model\n",
    "RNN_model.compile(loss='binary_crossentropy', optimizer='adam', metrics=['accuracy'])\n",
    "\n",
    "# TensorBoard\n",
    "tensorboard = TensorBoard('./SimpleRNN')\n",
    "\n",
    "# Train!\n",
    "print('Training the model..')\n",
    "RNN_model.fit(x_train, y_train, batch_size=batch_size, verbose=1, epochs=no_epochs, validation_data=(x_test, y_test), callbacks = [tensorboard])"
   ]
  },
  {
   "cell_type": "markdown",
   "id": "f8b43611",
   "metadata": {},
   "source": [
    "### Building CNN Model"
   ]
  },
  {
   "cell_type": "code",
   "execution_count": 10,
   "id": "03960cbd",
   "metadata": {},
   "outputs": [
    {
     "name": "stdout",
     "output_type": "stream",
     "text": [
      "Building CNN Model..\n"
     ]
    }
   ],
   "source": [
    "# Design Neural Network Architecture with CNN\n",
    "print('Building CNN Model..')\n",
    "\n",
    "CNN_model = Sequential()\n",
    "# Add Embedding layer\n",
    "CNN_model.add(Embedding(max_features, embedding_size, input_length=max_length))\n",
    "CNN_model.add(Dropout(dropout_rate))\n",
    "# Add 1D Convolution layer \n",
    "CNN_model.add(Conv1D(no_filters, kernal_size, padding='valid', activation='relu', strides=1))\n",
    "# Add Max Pooling Layer\n",
    "CNN_model.add(GlobalMaxPooling1D())\n",
    "# Add Hidden Dense Layer\n",
    "CNN_model.add(Dense(hidden_layer_size, activation='relu'))\n",
    "CNN_model.add(Dropout(dropout_rate))\n",
    "# Add Output Layer\n",
    "CNN_model.add(Dense(no_classes, activation='sigmoid'))"
   ]
  },
  {
   "cell_type": "code",
   "execution_count": 11,
   "id": "ac93621a",
   "metadata": {},
   "outputs": [],
   "source": [
    "# Configure model\n",
    "CNN_model.compile(loss='binary_crossentropy', optimizer='adam', metrics=['accuracy'])"
   ]
  },
  {
   "cell_type": "code",
   "execution_count": 12,
   "id": "5576aaf4",
   "metadata": {},
   "outputs": [
    {
     "name": "stdout",
     "output_type": "stream",
     "text": [
      "Training the model..\n",
      "Epoch 1/10\n",
      "782/782 [==============================] - 9s 10ms/step - loss: 0.5289 - accuracy: 0.7073 - val_loss: 0.3751 - val_accuracy: 0.8336\n",
      "Epoch 2/10\n",
      "782/782 [==============================] - 8s 10ms/step - loss: 0.3445 - accuracy: 0.8536 - val_loss: 0.3337 - val_accuracy: 0.8506\n",
      "Epoch 3/10\n",
      "782/782 [==============================] - 8s 10ms/step - loss: 0.2910 - accuracy: 0.8798 - val_loss: 0.3304 - val_accuracy: 0.8573\n",
      "Epoch 4/10\n",
      "782/782 [==============================] - 8s 10ms/step - loss: 0.2517 - accuracy: 0.9002 - val_loss: 0.3458 - val_accuracy: 0.8501\n",
      "Epoch 5/10\n",
      "782/782 [==============================] - 8s 11ms/step - loss: 0.2275 - accuracy: 0.9105 - val_loss: 0.3431 - val_accuracy: 0.8558\n",
      "Epoch 6/10\n",
      "782/782 [==============================] - 8s 10ms/step - loss: 0.2042 - accuracy: 0.9210 - val_loss: 0.3815 - val_accuracy: 0.8506\n",
      "Epoch 7/10\n",
      "782/782 [==============================] - 8s 10ms/step - loss: 0.1873 - accuracy: 0.9282 - val_loss: 0.3849 - val_accuracy: 0.8538\n",
      "Epoch 8/10\n",
      "782/782 [==============================] - 8s 10ms/step - loss: 0.1695 - accuracy: 0.9353 - val_loss: 0.3883 - val_accuracy: 0.8473\n",
      "Epoch 9/10\n",
      "782/782 [==============================] - 8s 10ms/step - loss: 0.1515 - accuracy: 0.9418 - val_loss: 0.4043 - val_accuracy: 0.8476\n",
      "Epoch 10/10\n",
      "782/782 [==============================] - 8s 10ms/step - loss: 0.1443 - accuracy: 0.9455 - val_loss: 0.4224 - val_accuracy: 0.8449\n"
     ]
    },
    {
     "data": {
      "text/plain": [
       "<keras.callbacks.History at 0x235019d6f88>"
      ]
     },
     "execution_count": 12,
     "metadata": {},
     "output_type": "execute_result"
    }
   ],
   "source": [
    "# TensorBoard\n",
    "tensorboard = TensorBoard('./CNN')\n",
    "\n",
    "# Train!\n",
    "print('Training the model..')\n",
    "CNN_model.fit(x_train, y_train, batch_size=batch_size, verbose=1, epochs=no_epochs, validation_data=(x_test, y_test), callbacks = [tensorboard])"
   ]
  },
  {
   "cell_type": "code",
   "execution_count": null,
   "id": "7ab53c0f",
   "metadata": {},
   "outputs": [],
   "source": []
  }
 ],
 "metadata": {
  "kernelspec": {
   "display_name": "Python 3 (ipykernel)",
   "language": "python",
   "name": "python3"
  },
  "language_info": {
   "codemirror_mode": {
    "name": "ipython",
    "version": 3
   },
   "file_extension": ".py",
   "mimetype": "text/x-python",
   "name": "python",
   "nbconvert_exporter": "python",
   "pygments_lexer": "ipython3",
   "version": "3.7.11"
  }
 },
 "nbformat": 4,
 "nbformat_minor": 5
}
